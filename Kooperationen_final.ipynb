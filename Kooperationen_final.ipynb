{
  "nbformat": 4,
  "nbformat_minor": 0,
  "metadata": {
    "colab": {
      "provenance": []
    },
    "kernelspec": {
      "name": "python3",
      "display_name": "Python 3"
    },
    "language_info": {
      "name": "python"
    }
  },
  "cells": [
    {
      "cell_type": "code",
      "execution_count": null,
      "metadata": {
        "id": "9FPUNgZlcGVn"
      },
      "outputs": [],
      "source": [
        "import requests\n",
        "import json\n",
        "import pandas as pd\n",
        "import altair as alt"
      ]
    },
    {
      "cell_type": "code",
      "source": [
        "placeholder = \"#PLACEHOLDER_PARENT_METADATA_VALUE#\"\n",
        "acronym = \"ISI\"\n",
        "scope2 = \"f34e8dc2-5a79-45b3-a500-10f867ce3e9f\"\n",
        "\n",
        "# Instituts-Kürzel\n",
        "#acronym = \"IRB\"\n",
        "#scope2 = \"fa1960d9-a52f-4a41-af94-2a2a40fa7e67\" \n",
        "\n",
        "# Jahr von (min) bis (max). Für die Einschränkung auf ein Jahr, bitte den gleichen Wert für date_min und date_max einfügen\n",
        "#date = \"2021\"\n",
        "date_min = \"2020\" \n",
        "date_max = \"2020\"\n",
        "\n",
        "\n",
        "url = \"https://publica-rest.fraunhofer.de/server/api/discover/search/objects?query=institute:(\"+acronym+\")&configuration=researchoutputs&f.dateIssued=%5B\"+date_min+\"%20TO%20\"+date_max+\"%5D,equals\"\n",
        "\n",
        "r = requests.get(url)\n",
        "data = r.json()\n",
        "anzahl = data[\"_embedded\"][\"searchResult\"][\"page\"][\"totalElements\"]\n",
        "anzahl = int(anzahl)\n",
        "print(anzahl)\n",
        "pages = data[\"_embedded\"][\"searchResult\"][\"page\"][\"totalPages\"]\n",
        "pages = int(pages)\n",
        "#print(pages)\n",
        "object = data[\"_embedded\"][\"searchResult\"][\"_embedded\"][\"objects\"]\n",
        "\n",
        "uuid = []\n",
        "affil = []\n",
        "authority = []\n",
        "for j in range(len(object)):\n",
        "    metadata = data[\"_embedded\"][\"searchResult\"][\"_embedded\"][\"objects\"][j][\"_embedded\"][\"indexableObject\"][\"metadata\"]\n",
        "    check = metadata.get(\"oairecerif.author.affiliation\", 0)\n",
        "    if check != 0:\n",
        "        test = data[\"_embedded\"][\"searchResult\"][\"_embedded\"][\"objects\"][j][\"_embedded\"][\"indexableObject\"][\"metadata\"][\"oairecerif.author.affiliation\"]\n",
        "        for i in range(len(test)):\n",
        "            uuid.append(data[\"_embedded\"][\"searchResult\"][\"_embedded\"][\"objects\"][j][\"_embedded\"][\"indexableObject\"][\"uuid\"])\n",
        "            affil.append(data[\"_embedded\"][\"searchResult\"][\"_embedded\"][\"objects\"][j][\"_embedded\"][\"indexableObject\"][\"metadata\"][\"oairecerif.author.affiliation\"][i][\"value\"])\n",
        "            authority.append(data[\"_embedded\"][\"searchResult\"][\"_embedded\"][\"objects\"][j][\"_embedded\"][\"indexableObject\"][\"metadata\"][\"oairecerif.author.affiliation\"][i][\"authority\"])\n",
        "\n",
        "if pages > 1:\n",
        "    for k in range(pages-1):\n",
        "        url = data[\"_embedded\"][\"searchResult\"][\"_links\"][\"next\"][\"href\"]\n",
        "        r = requests.get(url)\n",
        "        data = r.json()\n",
        "        object = data[\"_embedded\"][\"searchResult\"][\"_embedded\"][\"objects\"]\n",
        "        for j in range(len(object)):\n",
        "            metadata = data[\"_embedded\"][\"searchResult\"][\"_embedded\"][\"objects\"][j][\"_embedded\"][\"indexableObject\"][\"metadata\"]\n",
        "            check = metadata.get(\"oairecerif.author.affiliation\", 0)\n",
        "            if check != 0:\n",
        "                test = data[\"_embedded\"][\"searchResult\"][\"_embedded\"][\"objects\"][j][\"_embedded\"][\"indexableObject\"][\"metadata\"][\"oairecerif.author.affiliation\"]\n",
        "                for i in range(len(test)):\n",
        "                    uuid.append(data[\"_embedded\"][\"searchResult\"][\"_embedded\"][\"objects\"][j][\"_embedded\"][\"indexableObject\"][\"uuid\"])\n",
        "                    affil.append(data[\"_embedded\"][\"searchResult\"][\"_embedded\"][\"objects\"][j][\"_embedded\"][\"indexableObject\"][\"metadata\"][\"oairecerif.author.affiliation\"][i][\"value\"])\n",
        "                    authority.append(data[\"_embedded\"][\"searchResult\"][\"_embedded\"][\"objects\"][j][\"_embedded\"][\"indexableObject\"][\"metadata\"][\"oairecerif.author.affiliation\"][i][\"authority\"])\n",
        " \n",
        "        \n",
        "#Dataframe erstellen\n",
        "df = pd.DataFrame({'uuid':uuid})\n",
        "df['name'] = affil\n",
        "df['authority'] = authority\n",
        "#print(df)\n",
        "\n",
        "#Löschen des eigenen Namens\n",
        "df = df[df.authority != scope2]\n",
        "#Löschen von Placeholdern\n",
        "df = df[df.name != placeholder]\n",
        "\n",
        "#Deduplizieren\n",
        "df2 = df.drop_duplicates()\n",
        "\n",
        "#Gewichten: goupby count\n",
        "#df = df.groupby(['name', 'authority']).size()\n",
        "df3 = df2.groupby(['name'])['name'].count().reset_index(name='counts')\n",
        "df3 = df3.reset_index(drop=True)\n",
        "\n",
        "print(df3)"
      ],
      "metadata": {
        "colab": {
          "base_uri": "https://localhost:8080/"
        },
        "id": "AtSFRTDxchxi",
        "outputId": "8e61ed94-2fca-4c4e-be58-d4b217b3a83a"
      },
      "execution_count": null,
      "outputs": [
        {
          "output_type": "stream",
          "name": "stdout",
          "text": [
            "356\n",
            "                                                  name  counts\n",
            "0                                          ATEMIS GmbH       1\n",
            "1    Aalborg Univ., Section of Sustainable Design a...       1\n",
            "2                                         Aarhus Univ.       3\n",
            "3    Anglia Ruskin Univ., Global Sustainability Ins...       1\n",
            "4    Anhui Univ. of Finance and Economics, School o...       1\n",
            "..                                                 ...     ...\n",
            "283                              datenschutz nord GmbH       2\n",
            "284                     energy & management consulting       1\n",
            "285                                               ifeu       1\n",
            "286                                         talanwälte       1\n",
            "287                                       Öko-Institut       1\n",
            "\n",
            "[288 rows x 2 columns]\n"
          ]
        }
      ]
    },
    {
      "cell_type": "code",
      "source": [
        "df3.sort_values(by=['counts'], inplace=True, ascending=False)# Absteigende Sortierung nach Anzahl.\n",
        "df3.columns = ['Name', 'Anzahl']\n",
        "print(df3)"
      ],
      "metadata": {
        "colab": {
          "base_uri": "https://localhost:8080/"
        },
        "id": "5b99EDJzl2xE",
        "outputId": "ec286eec-0b00-44f4-c382-3871de6cc416"
      },
      "execution_count": null,
      "outputs": [
        {
          "output_type": "stream",
          "name": "stdout",
          "text": [
            "                                                  Name  Anzahl\n",
            "101                          HfWU Nürtingen-Geislingen       6\n",
            "28                                          DB Netz AG       6\n",
            "126                                 KIT Karlsruhe, IIP       6\n",
            "273  Utrecht Univ., Copernicus Institute of Sustain...       4\n",
            "241                               Univ. Stuttgart, IER       4\n",
            "..                                                 ...     ...\n",
            "248                                 Univ. of Bern, CDE       1\n",
            "249                               Univ. of Bern; Eawag       1\n",
            "285                                               ifeu       1\n",
            "284                     energy & management consulting       1\n",
            "53   ESM Foundation; Univ. Augsburg, Institute for ...       1\n",
            "\n",
            "[288 rows x 2 columns]\n"
          ]
        }
      ]
    },
    {
      "cell_type": "code",
      "source": [
        "bars = alt.Chart(df3).mark_bar().encode(\n",
        "    x='Anzahl:Q',\n",
        "    y=alt.Y(\"Name:O\", sort='-x')\n",
        ")\n",
        "\n",
        "text = bars.mark_text(\n",
        "    align='left',\n",
        "    baseline='middle',\n",
        "    dx=3  # Nudges text to right so it doesn't appear on top of the bar\n",
        ").encode(\n",
        "    text='Anzahl:Q'\n",
        ")\n",
        "\n",
        "(bars + text).properties(height=900)"
      ],
      "metadata": {
        "id": "eglLtLPLqBTa"
      },
      "execution_count": null,
      "outputs": []
    },
    {
      "cell_type": "code",
      "source": [
        "df4 = df3[df3.Anzahl > 2] # Hier bitte gewünschten Wert eintragen.\n",
        "\n",
        "bars = alt.Chart(df4).mark_bar().encode(\n",
        "    x='Anzahl:Q',\n",
        "    y=alt.Y(\"Name:O\", sort='-x')\n",
        ")\n",
        "\n",
        "text = bars.mark_text(\n",
        "    align='left',\n",
        "    baseline='middle',\n",
        "    dx=3  # Nudges text to right so it doesn't appear on top of the bar\n",
        ").encode(\n",
        "    text='Anzahl:Q'\n",
        ")\n",
        "\n",
        "(bars + text)\n",
        "#(bars + text).properties(height=900)"
      ],
      "metadata": {
        "colab": {
          "base_uri": "https://localhost:8080/",
          "height": 323
        },
        "id": "px0-JGFzu717",
        "outputId": "17219f7b-72e6-4afa-a060-b67263085c06"
      },
      "execution_count": null,
      "outputs": [
        {
          "output_type": "execute_result",
          "data": {
            "text/html": [
              "\n",
              "<div id=\"altair-viz-b43d5482f87a4abfa203171756b9273c\"></div>\n",
              "<script type=\"text/javascript\">\n",
              "  var VEGA_DEBUG = (typeof VEGA_DEBUG == \"undefined\") ? {} : VEGA_DEBUG;\n",
              "  (function(spec, embedOpt){\n",
              "    let outputDiv = document.currentScript.previousElementSibling;\n",
              "    if (outputDiv.id !== \"altair-viz-b43d5482f87a4abfa203171756b9273c\") {\n",
              "      outputDiv = document.getElementById(\"altair-viz-b43d5482f87a4abfa203171756b9273c\");\n",
              "    }\n",
              "    const paths = {\n",
              "      \"vega\": \"https://cdn.jsdelivr.net/npm//vega@5?noext\",\n",
              "      \"vega-lib\": \"https://cdn.jsdelivr.net/npm//vega-lib?noext\",\n",
              "      \"vega-lite\": \"https://cdn.jsdelivr.net/npm//vega-lite@4.17.0?noext\",\n",
              "      \"vega-embed\": \"https://cdn.jsdelivr.net/npm//vega-embed@6?noext\",\n",
              "    };\n",
              "\n",
              "    function maybeLoadScript(lib, version) {\n",
              "      var key = `${lib.replace(\"-\", \"\")}_version`;\n",
              "      return (VEGA_DEBUG[key] == version) ?\n",
              "        Promise.resolve(paths[lib]) :\n",
              "        new Promise(function(resolve, reject) {\n",
              "          var s = document.createElement('script');\n",
              "          document.getElementsByTagName(\"head\")[0].appendChild(s);\n",
              "          s.async = true;\n",
              "          s.onload = () => {\n",
              "            VEGA_DEBUG[key] = version;\n",
              "            return resolve(paths[lib]);\n",
              "          };\n",
              "          s.onerror = () => reject(`Error loading script: ${paths[lib]}`);\n",
              "          s.src = paths[lib];\n",
              "        });\n",
              "    }\n",
              "\n",
              "    function showError(err) {\n",
              "      outputDiv.innerHTML = `<div class=\"error\" style=\"color:red;\">${err}</div>`;\n",
              "      throw err;\n",
              "    }\n",
              "\n",
              "    function displayChart(vegaEmbed) {\n",
              "      vegaEmbed(outputDiv, spec, embedOpt)\n",
              "        .catch(err => showError(`Javascript Error: ${err.message}<br>This usually means there's a typo in your chart specification. See the javascript console for the full traceback.`));\n",
              "    }\n",
              "\n",
              "    if(typeof define === \"function\" && define.amd) {\n",
              "      requirejs.config({paths});\n",
              "      require([\"vega-embed\"], displayChart, err => showError(`Error loading script: ${err.message}`));\n",
              "    } else {\n",
              "      maybeLoadScript(\"vega\", \"5\")\n",
              "        .then(() => maybeLoadScript(\"vega-lite\", \"4.17.0\"))\n",
              "        .then(() => maybeLoadScript(\"vega-embed\", \"6\"))\n",
              "        .catch(showError)\n",
              "        .then(() => displayChart(vegaEmbed));\n",
              "    }\n",
              "  })({\"config\": {\"view\": {\"continuousWidth\": 400, \"continuousHeight\": 300}}, \"layer\": [{\"mark\": \"bar\", \"encoding\": {\"x\": {\"field\": \"Anzahl\", \"type\": \"quantitative\"}, \"y\": {\"field\": \"Name\", \"sort\": \"-x\", \"type\": \"ordinal\"}}}, {\"mark\": {\"type\": \"text\", \"align\": \"left\", \"baseline\": \"middle\", \"dx\": 3}, \"encoding\": {\"text\": {\"field\": \"Anzahl\", \"type\": \"quantitative\"}, \"x\": {\"field\": \"Anzahl\", \"type\": \"quantitative\"}, \"y\": {\"field\": \"Name\", \"sort\": \"-x\", \"type\": \"ordinal\"}}}], \"data\": {\"name\": \"data-fb66f70a2ae5fb258f0cd8a73b8b662c\"}, \"$schema\": \"https://vega.github.io/schema/vega-lite/v4.17.0.json\", \"datasets\": {\"data-fb66f70a2ae5fb258f0cd8a73b8b662c\": [{\"Name\": \"HfWU N\\u00fcrtingen-Geislingen\", \"Anzahl\": 6}, {\"Name\": \"DB Netz AG\", \"Anzahl\": 6}, {\"Name\": \"KIT Karlsruhe, IIP\", \"Anzahl\": 6}, {\"Name\": \"Utrecht Univ., Copernicus Institute of Sustainable Development\", \"Anzahl\": 4}, {\"Name\": \"Univ. Stuttgart, IER\", \"Anzahl\": 4}, {\"Name\": \"KIT Karlsruhe, EnTechnon, Lehrstuhl iTM\", \"Anzahl\": 4}, {\"Name\": \"Fraunhofer-Institut f\\u00fcr Offene Kommunikationssysteme FOKUS\", \"Anzahl\": 3}, {\"Name\": \"Ostfalia Hochschule f\\u00fcr angewandte Wissenschaften\", \"Anzahl\": 3}, {\"Name\": \"SPRU\", \"Anzahl\": 3}, {\"Name\": \"Aarhus Univ.\", \"Anzahl\": 3}, {\"Name\": \"Grenoble Ecole de Management\", \"Anzahl\": 3}, {\"Name\": \"FIZ Karlsruhe - Leibniz-Institut f\\u00fcr Informationsinfrastruktur\", \"Anzahl\": 3}, {\"Name\": \"TU Berlin, Fachgebiet Innovations\\u00f6konomie\", \"Anzahl\": 3}]}}, {\"mode\": \"vega-lite\"});\n",
              "</script>"
            ],
            "text/plain": [
              "alt.LayerChart(...)"
            ]
          },
          "metadata": {},
          "execution_count": 65
        }
      ]
    }
  ]
}